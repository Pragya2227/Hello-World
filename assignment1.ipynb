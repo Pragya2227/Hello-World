{
 "cells": [
  {
   "cell_type": "raw",
   "id": "e13d7c78",
   "metadata": {},
   "source": [
    "\n",
    "1. In the below elements which of them are values or an expression? eg:- values can be\n",
    "integer or string and expressions will be mathematical operators.\n",
    "*- expression\n",
    "&-expression\n",
    "39-value\n",
    "hello-value\n",
    "-87.8-value\n",
    "--expression\n",
    "/-expression\n",
    "+-expression\n",
    "6-value"
   ]
  },
  {
   "cell_type": "raw",
   "id": "f8352c3c",
   "metadata": {},
   "source": [
    "2. What is the difference between string and variable?\n",
    "strings are data,that can be used to fill up a variable,Whereas variables are symbol that can be used to store a data."
   ]
  },
  {
   "cell_type": "raw",
   "id": "3fcedee9",
   "metadata": {},
   "source": [
    "3. Describe three different data types.\n",
    "Three different data types are-NUMERIC,DICTIONARY,BOOLEAN\n",
    "NUMERIC-Numeric data types represent the data which has numeric values i.e.integer,float or even complex numbers\n",
    "DICTIONARY-it is an unordered collection of data that stores data in key-values pairs\n",
    "BOOLEAN-Data types with one of the two built-in values,True or False."
   ]
  },
  {
   "cell_type": "raw",
   "id": "9927b23d",
   "metadata": {},
   "source": [
    "4. What is an expression made up of? What do all expressions do?\n",
    "An expression is a combination of operators and operands that is interpreted to produce some other values.\n",
    "The expression in python produces some values or result after being interpreted by the python interpreter."
   ]
  },
  {
   "cell_type": "raw",
   "id": "0789a7c6",
   "metadata": {},
   "source": [
    "5. This assignment statements, like spam = 10. What is the difference between an\n",
    "expression and a statement?\n",
    "An expression evaluates to a single value.A statement does not."
   ]
  },
  {
   "cell_type": "code",
   "execution_count": 3,
   "id": "9dca15e3",
   "metadata": {},
   "outputs": [
    {
     "name": "stdout",
     "output_type": "stream",
     "text": [
      "Object `contain` not found.\n"
     ]
    },
    {
     "data": {
      "text/plain": [
       "23"
      ]
     },
     "execution_count": 3,
     "metadata": {},
     "output_type": "execute_result"
    }
   ],
   "source": [
    "6. After running the following code, what does the variable bacon contain?\n",
    "bacon = 22\n",
    "bacon + 1\n",
    "#bacon contain 23"
   ]
  },
  {
   "cell_type": "raw",
   "id": "0bfa49ea",
   "metadata": {},
   "source": [
    "7. What should the values of the following two terms be?\n",
    "'spam' + 'spamspam'\n",
    "'spam' * 3\n",
    "Both expression evaluates to the string 'spamspamspam'"
   ]
  },
  {
   "cell_type": "raw",
   "id": "c5db32e3",
   "metadata": {},
   "source": [
    "8. Why is eggs a valid variable name while 100 is invalid?\n",
    "Variable name doesnot begin with a number."
   ]
  },
  {
   "cell_type": "raw",
   "id": "352ce236",
   "metadata": {},
   "source": [
    "9. What three functions can be used to get the integer, floating-point number, or string\n",
    "version of a value?\n",
    "The int(),float(),and str() functions will evaluate to the integer, floating point number, and string version of the value passed to them."
   ]
  },
  {
   "cell_type": "raw",
   "id": "9b1d4f6d",
   "metadata": {},
   "source": [
    "10. Why does this expression cause an error? How can you fix it?\n",
    "'I have eaten' + 99 + 'burritos.'\n",
    "The expression cause an error because 99 is an integer, and only strings can be concatenated to other strings with the + operand. The correct way is 'I have eaten'+ str(99) + 'burritos.'"
   ]
  }
 ],
 "metadata": {
  "celltoolbar": "Raw Cell Format",
  "kernelspec": {
   "display_name": "Python 3 (ipykernel)",
   "language": "python",
   "name": "python3"
  },
  "language_info": {
   "codemirror_mode": {
    "name": "ipython",
    "version": 3
   },
   "file_extension": ".py",
   "mimetype": "text/x-python",
   "name": "python",
   "nbconvert_exporter": "python",
   "pygments_lexer": "ipython3",
   "version": "3.9.13"
  }
 },
 "nbformat": 4,
 "nbformat_minor": 5
}
